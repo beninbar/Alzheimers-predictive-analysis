{
 "cells": [
  {
   "cell_type": "markdown",
   "id": "verified-tradition",
   "metadata": {},
   "source": [
    "## Step 1: Load your data, including testing/training split from Project 1."
   ]
  },
  {
   "cell_type": "code",
   "execution_count": 2,
   "id": "completed-mailman",
   "metadata": {},
   "outputs": [],
   "source": [
    "# Initial code copied from Project 1\n",
    "import pandas as pd\n",
    "from sklearn.model_selection import train_test_split\n",
    "\n",
    "data = pd.read_csv(\"oasis_longitudinal.csv\")\n",
    "\n",
    "# First, drop NaN value rows on the non-split data to keep it balanced for the split\n",
    "# Drop rows with null/missing values in SES and MMSE columns (identified by using data.info())\n",
    "data = data.dropna(axis=0)\n",
    "\n",
    "# Define the predictor and the feature set\n",
    "X = data.drop('Group', axis=1)\n",
    "y = data['Group']\n",
    "\n",
    "# Finally, divide into training and test sets, add random_state\n",
    "X_train, X_test, y_train, y_test = train_test_split(X, y, test_size=0.2, random_state=1, stratify=y)\n"
   ]
  },
  {
   "cell_type": "markdown",
   "id": "painful-exemption",
   "metadata": {},
   "source": [
    "## Step 2: (If not already done in Project 1) Prepare your data"
   ]
  },
  {
   "cell_type": "code",
   "execution_count": 3,
   "id": "elder-bailey",
   "metadata": {},
   "outputs": [],
   "source": [
    "# Code copied from Project 1\n",
    "\n",
    "# Get rid of unecessary features: handedness (since all are right handed), MR delay time, Subject ID, MRI ID, Visit number\n",
    "X_train = X_train.drop(['Hand', 'MR Delay', 'Subject ID', 'MRI ID', 'Visit'], axis=1)\n",
    "X_test = X_test.drop(['Hand', 'MR Delay', 'Subject ID', 'MRI ID', 'Visit'], axis=1)\n",
    "\n",
    "# Convert \"M/F\" categorical attribute to int. F is class '0' and M is class '1'.\n",
    "X_train['M/F'].replace(['M', 'F'], [0, 1], inplace=True)\n",
    "X_test['M/F'].replace(['M', 'F'], [0, 1], inplace=True)\n",
    "\n",
    "# Since we are interested in predicting dementia based on biological attributes, not conversion to it, \n",
    "# transform \"Converted\" predictor category to \"Demented.\"\n",
    "y_train = y_train.str.replace('Converted', 'Demented')\n",
    "y_test = y_test.str.replace('Converted', 'Demented')\n",
    "\n",
    "# Encode the categorical predictor \"Demented\" to class '0' vs \"Nondemented\" to class '1'.\n",
    "from sklearn.preprocessing import LabelEncoder\n",
    "le = LabelEncoder()\n",
    "y_train = le.fit_transform(y_train)\n",
    "y_test = le.fit_transform(y_test)\n",
    "\n",
    "# Feature scaling. Decided to use StandardScaler instead of MinMaxScaler so that \n",
    "# the mean was 0 and standard deviation constant i.e. create Gaussian data.\n",
    "from sklearn.preprocessing import StandardScaler\n",
    "ss = StandardScaler()\n",
    "X_train_scaled = ss.fit_transform(X_train)\n",
    "X_test_scaled = ss.fit_transform(X_test)\n",
    "\n"
   ]
  },
  {
   "cell_type": "markdown",
   "id": "naked-quest",
   "metadata": {},
   "source": [
    "## Step 3: Examine your target attribute."
   ]
  },
  {
   "cell_type": "code",
   "execution_count": 4,
   "id": "classified-exclusion",
   "metadata": {},
   "outputs": [
    {
     "name": "stdout",
     "output_type": "stream",
     "text": [
      "Nondemented    0.536723\n",
      "Demented       0.463277\n",
      "Name: Group, dtype: float64\n"
     ]
    },
    {
     "data": {
      "image/png": "[encoded data removed]",
      "text/plain": [
       "<Figure size 432x288 with 1 Axes>"
      ]
     },
     "metadata": {
      "needs_background": "light"
     },
     "output_type": "display_data"
    }
   ],
   "source": [
    "import seaborn as sns\n",
    "%matplotlib inline\n",
    "\n",
    "# Transform \"Converted\" to \"Demented\" for the pre-split data\n",
    "y = y.str.replace('Converted', 'Demented')\n",
    "\n",
    "# Plot the categorical target variable from the pre-split data\n",
    "sns.countplot(x=y)\n",
    "\n",
    "# Show frequencies. Each outcome is approximately equally represented.\n",
    "print(y.value_counts(normalize=True))"
   ]
  },
  {
   "cell_type": "markdown",
   "id": "little-sequence",
   "metadata": {},
   "source": [
    "## Step 4: Select two of the following supervised learning algorithms"
   ]
  },
  {
   "cell_type": "code",
   "execution_count": 5,
   "id": "interracial-casino",
   "metadata": {},
   "outputs": [],
   "source": [
    "# First algorithm: Logistic regression\n",
    "from sklearn.linear_model import LogisticRegression\n",
    "\n",
    "# Instantiate and fit the LogisticRegression model. When running the Logistic Regression algorithm, I got a \n",
    "# convergence error/warning (for lbfgs solver), though it still ran. Default iterations were 100, so I increased to 1000 and\n",
    "# that resolved the issue, but notably, only after scaling the data. Apparently higher iterations or failing to converge\n",
    "# reduces the confidence in the prediction and scoring.\n",
    "logreg = LogisticRegression(max_iter=1000)\n",
    "\n",
    "# Second algorithm: Decision tree\n",
    "from sklearn.tree import DecisionTreeClassifier\n",
    "\n",
    "#Instantiate and fit the Decision Tree Classifier. Set random_state to 2 for reproducibility.\n",
    "dectree = DecisionTreeClassifier(random_state=2)\n"
   ]
  },
  {
   "cell_type": "markdown",
   "id": "polyphonic-amber",
   "metadata": {},
   "source": [
    "## Step 5: For each of your selected models"
   ]
  },
  {
   "cell_type": "code",
   "execution_count": 7,
   "id": "photographic-looking",
   "metadata": {},
   "outputs": [
    {
     "name": "stdout",
     "output_type": "stream",
     "text": [
      "Logistic regression scoring metrics using default parameters:\n",
      "\n",
      "\tCross validation scores: [0.9122807  0.94736842 0.92982456 0.96428571 0.89285714]\n",
      "\n",
      "              precision    recall  f1-score   support\n",
      "\n",
      "           0       1.00      0.91      0.95        33\n",
      "           1       0.93      1.00      0.96        38\n",
      "\n",
      "    accuracy                           0.96        71\n",
      "   macro avg       0.96      0.95      0.96        71\n",
      "weighted avg       0.96      0.96      0.96        71\n",
      "\n",
      "\tAccuracy score on un-scaled training data: 0.5371024734982333\n",
      "\tAccuracy score on un-scaled test data: 0.5352112676056338\n",
      "\tAccuracy score on SCALED training data: 0.9399293286219081\n",
      "\tAccuracy score on SCALED test data: 0.9577464788732394\n",
      "\n",
      "\tBest C from GridSearch: {'C': 1}\n",
      "\tBest score from GridSearch: 0.9398496240601505\n",
      "\n",
      "\n",
      "\n",
      "Decision tree scoring metrics using default parameters:\n",
      "\n",
      "\tCross validation scores: [0.89473684 0.89473684 0.92982456 0.89285714 0.83928571]\n",
      "\n",
      "              precision    recall  f1-score   support\n",
      "\n",
      "           0       0.91      0.97      0.94        33\n",
      "           1       0.97      0.92      0.95        38\n",
      "\n",
      "    accuracy                           0.94        71\n",
      "   macro avg       0.94      0.95      0.94        71\n",
      "weighted avg       0.95      0.94      0.94        71\n",
      "\n",
      "\tAccuracy score on training data: 1.0\n",
      "\tAccuracy score on test data: 0.9436619718309859\n",
      "\n",
      "\tBest parameters from GridSearch: {'criterion': 'entropy', 'max_depth': 5, 'max_features': 8}\n",
      "\tBest score from GridSearch: 0.943358395989975\n",
      "\n",
      "\n",
      "Re-run the model with the best parameters from Grid Search\n",
      "\n",
      "              precision    recall  f1-score   support\n",
      "\n",
      "           0       1.00      0.91      0.95        33\n",
      "           1       0.93      1.00      0.96        38\n",
      "\n",
      "    accuracy                           0.96        71\n",
      "   macro avg       0.96      0.95      0.96        71\n",
      "weighted avg       0.96      0.96      0.96        71\n",
      "\n",
      "\tAccuracy score on training data: 0.9575971731448764\n",
      "\tAccuracy score on test data: 0.9577464788732394\n"
     ]
    }
   ],
   "source": [
    "# Import tools for cross validation and scoring\n",
    "from sklearn.model_selection import cross_val_score\n",
    "from sklearn.metrics import classification_report\n",
    "from sklearn.model_selection import GridSearchCV\n",
    "\n",
    "# FIRST, FOR LOGISTIC REGRESSION. Run with the default parameters using cross-validation.\n",
    "print(\"Logistic regression scoring metrics using default parameters:\")\n",
    "print(\"\\n\\tCross validation scores: {}\\n\".format(cross_val_score(logreg, X_train, y_train, cv=5)))\n",
    "\n",
    "# Fit model to scaled training data and predict against the test data.\n",
    "logreg.fit(X_train_scaled, y_train)\n",
    "y_pred = logreg.predict(X_test_scaled)\n",
    "\n",
    "# Calculate precision, recall, F1. Use classification_report to show a table of the metrics.\n",
    "print(classification_report(y_test, y_pred))\n",
    "\n",
    "# CANNOT calculate r2, RMSE, and MAE for logistic regression, but can accuracy scores. Note how scaling vastly improved scores.\n",
    "print(\"\\tAccuracy score on un-scaled training data: {}\".format(logreg.score(X_train, y_train)))\n",
    "print(\"\\tAccuracy score on un-scaled test data: {}\".format(logreg.score(X_test, y_test)))\n",
    "print(\"\\tAccuracy score on SCALED training data: {}\".format(logreg.score(X_train_scaled, y_train)))\n",
    "print(\"\\tAccuracy score on SCALED test data: {}\".format(logreg.score(X_test_scaled, y_test)))\n",
    "\n",
    "# Grid search using the inverse regularization strength C (default = 1).\n",
    "param_grid = {'C': [0.001, 0.01, 1, 10, 100]}\n",
    "logregGS = GridSearchCV(logreg, param_grid=param_grid)\n",
    "logregGS.fit(X_train_scaled, y_train)\n",
    "print('\\n\\tBest C from GridSearch: {}'.format(logregGS.best_params_))\n",
    "print('\\tBest score from GridSearch: {}'.format(logregGS.best_score_))\n",
    "\n",
    "# Note: did not re-run model after Grid Search because best parameter was C = 1, which is the default C for\n",
    "# sklearn's Logistic Regression.\n",
    "\n",
    "\n",
    "# SECOND, FOR DECISION TREE CLASSIFIER. Perform cross-validation with default parameters. Use unscaled training data.\n",
    "print(\"\\n\\n\\nDecision tree scoring metrics using default parameters:\")\n",
    "print(\"\\n\\tCross validation scores: {}\\n\".format(cross_val_score(dectree, X_train, y_train, cv=5)))\n",
    "\n",
    "# Fit dectree to training data and predict against the test data.\n",
    "dectree.fit(X_train, y_train)\n",
    "y_pred = dectree.predict(X_test)\n",
    "\n",
    "# Calculate precision, recall, F1. Use classification_report to show a table of the metrics.\n",
    "print(classification_report(y_test, y_pred))\n",
    "\n",
    "# Accuracy scoring.\n",
    "print(\"\\tAccuracy score on training data: {}\".format(dectree.score(X_train, y_train)))\n",
    "print(\"\\tAccuracy score on test data: {}\".format(dectree.score(X_test, y_test)))\n",
    "\n",
    "# Grid search using DecisionTree parameters of 'criterion,' 'max_depth', and 'max_features'\n",
    "param_grid = {'criterion': ['entropy', 'gini'], 'max_depth': list(range(1, 9)), 'max_features': list(range(1, 10))}\n",
    "dectreeGS = GridSearchCV(dectree, param_grid=param_grid)\n",
    "dectreeGS.fit(X_train, y_train)\n",
    "print('\\n\\tBest parameters from GridSearch: {}'.format(dectreeGS.best_params_))\n",
    "print('\\tBest score from GridSearch: {}'.format(dectreeGS.best_score_))\n",
    "\n",
    "# Re-run the model with the best parameters\n",
    "dectree_best = DecisionTreeClassifier(criterion = 'entropy', max_depth=5, max_features=8, random_state=2)\n",
    "\n",
    "dectree_best.fit(X_train, y_train)\n",
    "y_pred = dectree_best.predict(X_test)\n",
    "\n",
    "# New classification report\n",
    "print('\\n\\nRe-run the model with the best parameters from Grid Search\\n')\n",
    "print(classification_report(y_test, y_pred))\n",
    "\n",
    "# New accuracy scoring.\n",
    "print(\"\\tAccuracy score on training data: {}\".format(dectree_best.score(X_train, y_train)))\n",
    "print(\"\\tAccuracy score on test data: {}\".format(dectree_best.score(X_test, y_test)))"
   ]
  },
  {
   "cell_type": "code",
   "execution_count": null,
   "id": "prostate-manual",
   "metadata": {},
   "outputs": [],
   "source": []
  },
  {
   "cell_type": "code",
   "execution_count": null,
   "id": "eight-tokyo",
   "metadata": {},
   "outputs": [],
   "source": []
  }
 ],
 "metadata": {
  "kernelspec": {
   "display_name": "Python 3",
   "language": "python",
   "name": "python3"
  },
  "language_info": {
   "codemirror_mode": {
    "name": "ipython",
    "version": 3
   },
   "file_extension": ".py",
   "mimetype": "text/x-python",
   "name": "python",
   "nbconvert_exporter": "python",
   "pygments_lexer": "ipython3",
   "version": "3.8.5"
  }
 },
 "nbformat": 4,
 "nbformat_minor": 5
}
